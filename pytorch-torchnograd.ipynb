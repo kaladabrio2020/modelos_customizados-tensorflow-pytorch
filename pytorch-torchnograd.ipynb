{
 "cells": [
  {
   "cell_type": "code",
   "execution_count": 2,
   "metadata": {},
   "outputs": [],
   "source": [
    "import torch\n",
    "from   sklearn.datasets import fetch_california_housing, load_breast_cancer"
   ]
  },
  {
   "cell_type": "markdown",
   "metadata": {},
   "source": [
    "### Para tarefa de classificação"
   ]
  },
  {
   "cell_type": "code",
   "execution_count": 3,
   "metadata": {},
   "outputs": [],
   "source": [
    "X, y = load_breast_cancer(return_X_y=True)"
   ]
  },
  {
   "cell_type": "code",
   "execution_count": 4,
   "metadata": {},
   "outputs": [],
   "source": [
    "X = ( X - X.mean(axis=0) ) / X.std(axis=0)"
   ]
  },
  {
   "cell_type": "code",
   "execution_count": 5,
   "metadata": {},
   "outputs": [],
   "source": [
    "X_ = torch.tensor( data = X, dtype=torch.float32)\n",
    "y_ = torch.tensor( data = y.reshape(-1, 1), dtype=torch.float32)"
   ]
  },
  {
   "cell_type": "markdown",
   "metadata": {},
   "source": [
    "carregando dataloader"
   ]
  },
  {
   "cell_type": "code",
   "execution_count": 6,
   "metadata": {},
   "outputs": [
    {
     "data": {
      "text/plain": [
       "17"
      ]
     },
     "execution_count": 6,
     "metadata": {},
     "output_type": "execute_result"
    }
   ],
   "source": [
    "X.shape[0]//32"
   ]
  },
  {
   "cell_type": "code",
   "execution_count": 7,
   "metadata": {},
   "outputs": [],
   "source": [
    "# Movendo para tensor\n",
    "tensor = torch.utils.data.TensorDataset(X_, y_)\n",
    "\n",
    "# dataloader\n",
    "train = torch.utils.data.DataLoader(\n",
    "    dataset = tensor, \n",
    "    batch_size = 32 ,\n",
    "    shuffle = True\n",
    ")"
   ]
  },
  {
   "cell_type": "code",
   "execution_count": 34,
   "metadata": {},
   "outputs": [
    {
     "name": "stdout",
     "output_type": "stream",
     "text": [
      "tensor(0.8128, grad_fn=<MseLossBackward0>)\n",
      "tensor(0.8618, grad_fn=<MseLossBackward0>)\n",
      "tensor(0.8250, grad_fn=<MseLossBackward0>)\n",
      "tensor(0.9274, grad_fn=<MseLossBackward0>)\n",
      "tensor(0.7904, grad_fn=<MseLossBackward0>)\n",
      "tensor(0.7256, grad_fn=<MseLossBackward0>)\n",
      "tensor(0.8711, grad_fn=<MseLossBackward0>)\n",
      "tensor(0.8273, grad_fn=<MseLossBackward0>)\n",
      "tensor(0.8488, grad_fn=<MseLossBackward0>)\n",
      "tensor(0.8121, grad_fn=<MseLossBackward0>)\n"
     ]
    }
   ],
   "source": [
    "#Função de perda\n",
    "def LOGloss(ytrue:torch.Tensor, ypred:torch.Tensor):\n",
    "    return -1 * torch.mean(\n",
    "        ypred * torch.log1p(ypred) + (1 - ytrue) * torch.log(1 - ypred)\n",
    "    )\n",
    "\n",
    "# definindo pesos e treinamento\n",
    "torch.manual_seed( seed=1 )\n",
    "\n",
    "# pesos\n",
    "weight = torch.rand((X.shape[1], 1), dtype=torch.float32)\n",
    "weight.requires_grad_()\n",
    "bias = torch.zeros(1, requires_grad=True, dtype=torch.float32)\n",
    "\n",
    "#Modelo\n",
    "def model(x):\n",
    "    return x @ weight + bias\n",
    "\n",
    "#função de ativação\n",
    "activation = torch.nn.Sigmoid()\n",
    "\n",
    "for epoch in range(10):\n",
    "    for xbatch, ybatch in train:\n",
    "        \n",
    "        pred = activation(model(xbatch ))\n",
    "        \n",
    "    \n",
    "        loss = torch.nn.MSELoss()(ybatch, pred)\n",
    "        \n",
    "        loss.backward()\n",
    "\n",
    "    with torch.no_grad():\n",
    "        weight -= weight.grad * 0.01\n",
    "        bias -= bias.grad * 0.01\n",
    "        \n",
    "        weight.grad.zero_()\n",
    "        bias.grad.zero_()\n",
    "    print(loss)"
   ]
  },
  {
   "cell_type": "code",
   "execution_count": null,
   "metadata": {},
   "outputs": [],
   "source": []
  }
 ],
 "metadata": {
  "kernelspec": {
   "display_name": "Python 3",
   "language": "python",
   "name": "python3"
  },
  "language_info": {
   "codemirror_mode": {
    "name": "ipython",
    "version": 3
   },
   "file_extension": ".py",
   "mimetype": "text/x-python",
   "name": "python",
   "nbconvert_exporter": "python",
   "pygments_lexer": "ipython3",
   "version": "3.12.7"
  }
 },
 "nbformat": 4,
 "nbformat_minor": 2
}
