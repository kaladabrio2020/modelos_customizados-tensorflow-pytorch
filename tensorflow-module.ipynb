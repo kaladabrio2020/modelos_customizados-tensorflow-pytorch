{
 "cells": [
  {
   "cell_type": "code",
   "execution_count": 21,
   "metadata": {},
   "outputs": [],
   "source": [
    "import keras\n",
    "import numpy as np\n",
    "import tensorflow as tf"
   ]
  },
  {
   "cell_type": "code",
   "execution_count": 22,
   "metadata": {},
   "outputs": [],
   "source": [
    "from sklearn.metrics  import *\n",
    "from sklearn.datasets import load_breast_cancer"
   ]
  },
  {
   "cell_type": "code",
   "execution_count": 23,
   "metadata": {},
   "outputs": [],
   "source": [
    "X, y = load_breast_cancer(return_X_y=True)"
   ]
  },
  {
   "cell_type": "code",
   "execution_count": 24,
   "metadata": {},
   "outputs": [],
   "source": [
    "X = (X - X.mean(axis=0)) / X.std(axis=0)"
   ]
  },
  {
   "cell_type": "code",
   "execution_count": 25,
   "metadata": {},
   "outputs": [],
   "source": [
    "X = X.astype(np.float32)\n",
    "y = y.astype(np.float32)"
   ]
  },
  {
   "cell_type": "code",
   "execution_count": 26,
   "metadata": {},
   "outputs": [
    {
     "data": {
      "text/plain": [
       "(17, 30)"
      ]
     },
     "execution_count": 26,
     "metadata": {},
     "output_type": "execute_result"
    }
   ],
   "source": [
    "X.shape[0]//32, X.shape[1]"
   ]
  },
  {
   "cell_type": "code",
   "execution_count": 27,
   "metadata": {},
   "outputs": [],
   "source": [
    "data = tf.data.Dataset.from_tensor_slices((X, y.reshape(-1, 1)))"
   ]
  },
  {
   "cell_type": "code",
   "execution_count": 28,
   "metadata": {},
   "outputs": [],
   "source": [
    "train = data\\\n",
    "            .batch( batch_size = 20, drop_remainder=True)\\\n",
    "            .shuffle(buffer_size = 20, seed=21)"
   ]
  },
  {
   "cell_type": "markdown",
   "metadata": {},
   "source": [
    "## Classificação"
   ]
  },
  {
   "cell_type": "code",
   "execution_count": 29,
   "metadata": {},
   "outputs": [],
   "source": [
    "class modelClass_(tf.Module):\n",
    "    def __init__(self, name=None, initializer_ = keras.initializers.GlorotNormal, activation=tf.sigmoid,n_features=8):\n",
    "        super().__init__(name)\n",
    "\n",
    "        self.activation = activation\n",
    "        initializer_ = initializer_()\n",
    "        initializer_ = initializer_(shape=(n_features, 1))\n",
    "\n",
    "        # Pesos e bias\n",
    "        self.weights = tf.Variable(initializer_, name='weights')\n",
    "        self.bias    = tf.Variable([0.0], name='bias')\n",
    "\n",
    "    def __call__(self, x):\n",
    "        return self.activation(tf.matmul(x, self.weights) + self.bias)"
   ]
  },
  {
   "cell_type": "code",
   "execution_count": 30,
   "metadata": {},
   "outputs": [],
   "source": [
    "model = modelClass_(\n",
    "    name='meu_modelo', \n",
    "    n_features=30    ,\n",
    "    initializer_=keras.initializers.Zeros)"
   ]
  },
  {
   "cell_type": "code",
   "execution_count": 31,
   "metadata": {},
   "outputs": [
    {
     "data": {
      "text/plain": [
       "(569, 30)"
      ]
     },
     "execution_count": 31,
     "metadata": {},
     "output_type": "execute_result"
    }
   ],
   "source": [
    "X.shape"
   ]
  },
  {
   "cell_type": "code",
   "execution_count": 32,
   "metadata": {},
   "outputs": [
    {
     "name": "stdout",
     "output_type": "stream",
     "text": [
      "Epoch 1 * loss : 0.45\n",
      "Epoch 2 * loss : 0.34\n",
      "Epoch 3 * loss : 0.24\n",
      "Epoch 4 * loss : 0.12\n"
     ]
    }
   ],
   "source": [
    "loss_  = keras.losses.binary_crossentropy\n",
    "metric = keras.metrics.binary_accuracy\n",
    "optim  = keras.optimizers.SGD(learning_rate=0.01)\n",
    "\n",
    "max_ = np.inf\n",
    "init_, limit = 0, 4\n",
    "\n",
    "for epoch in range(10):\n",
    "    for xbatch, ybatch in train:\n",
    "        with tf.GradientTape() as tape:\n",
    "            pred = model(xbatch)\n",
    "            loss = loss_(ybatch, pred)\n",
    "            loss = tf.reduce_mean(loss)\n",
    "\n",
    "              \n",
    "        gradient = tape.gradient(loss, model.variables)\n",
    "        optim.apply_gradients(zip(gradient, model.variables))\n",
    "    if max_ > loss:\n",
    "        init_ += 1\n",
    "    if init_ == limit + 1:\n",
    "        break\n",
    "    print(f'Epoch {epoch+1} * loss : {loss:.2f}')\n",
    "    \n",
    "\n",
    "        "
   ]
  },
  {
   "cell_type": "code",
   "execution_count": 33,
   "metadata": {},
   "outputs": [],
   "source": [
    "pred_ = (model(X) > 0.5).numpy().astype(float)"
   ]
  },
  {
   "cell_type": "code",
   "execution_count": 34,
   "metadata": {},
   "outputs": [
    {
     "data": {
      "text/plain": [
       "0.9595782073813708"
      ]
     },
     "execution_count": 34,
     "metadata": {},
     "output_type": "execute_result"
    }
   ],
   "source": [
    "accuracy_score(y, pred_)"
   ]
  },
  {
   "cell_type": "code",
   "execution_count": 35,
   "metadata": {},
   "outputs": [
    {
     "name": "stdout",
     "output_type": "stream",
     "text": [
      "              precision    recall  f1-score   support\n",
      "\n",
      "         0.0       0.94      0.95      0.95       212\n",
      "         1.0       0.97      0.97      0.97       357\n",
      "\n",
      "    accuracy                           0.96       569\n",
      "   macro avg       0.96      0.96      0.96       569\n",
      "weighted avg       0.96      0.96      0.96       569\n",
      "\n"
     ]
    }
   ],
   "source": [
    "print(classification_report(y, pred_))"
   ]
  },
  {
   "cell_type": "markdown",
   "metadata": {},
   "source": [
    "## Regressão"
   ]
  },
  {
   "cell_type": "code",
   "execution_count": 36,
   "metadata": {},
   "outputs": [],
   "source": [
    "from sklearn.datasets import fetch_california_housing"
   ]
  },
  {
   "cell_type": "code",
   "execution_count": 37,
   "metadata": {},
   "outputs": [],
   "source": [
    "X, y = fetch_california_housing(return_X_y=True)"
   ]
  },
  {
   "cell_type": "code",
   "execution_count": null,
   "metadata": {},
   "outputs": [],
   "source": [
    "X = (X - X.mean(axis=0)) / X.std(axis=0)\n",
    "\n",
    "X = X.astype(np.float32)\n",
    "y = y.astype(np.float32)"
   ]
  },
  {
   "cell_type": "code",
   "execution_count": 40,
   "metadata": {},
   "outputs": [
    {
     "data": {
      "text/plain": [
       "(2064, 8)"
      ]
     },
     "execution_count": 40,
     "metadata": {},
     "output_type": "execute_result"
    }
   ],
   "source": [
    "X.shape[0]//10, X.shape[1]"
   ]
  },
  {
   "cell_type": "code",
   "execution_count": null,
   "metadata": {},
   "outputs": [],
   "source": [
    "data = tf.data\\\n",
    "         .Dataset.from_tensor_slices((X, y.reshape(-1, 1)))\n",
    "\n",
    "train = data\\\n",
    "            .batch( batch_size = 32, drop_remainder=True)\\\n",
    "            .shuffle(buffer_size = 20, seed=21)"
   ]
  },
  {
   "cell_type": "code",
   "execution_count": 43,
   "metadata": {},
   "outputs": [],
   "source": [
    "class modelReg_(tf.Module):\n",
    "    def __init__(self, name=None, initializer_ = keras.initializers.VarianceScaling, dist='normal',n_features=8):\n",
    "        super().__init__(name)\n",
    "\n",
    "        if isinstance(initializer_, keras.initializers.VarianceScaling):\n",
    "            initializer_ = initializer_(scale=1., mode='fan_in', distribution='normal')\n",
    "            initializer_ = initializer_(shape=(n_features, 1))\n",
    "        else:\n",
    "            initializer_ = initializer_()\n",
    "            initializer_ = initializer_(shape=(n_features, 1))\n",
    "\n",
    "        # Pesos e bias\n",
    "        self.weights = tf.Variable(initializer_, name='weights')\n",
    "        self.bias    = tf.Variable([0.0], name='bias')\n",
    "\n",
    "    def __call__(self, x):\n",
    "        return tf.matmul(x, self.weights) + self.bias"
   ]
  },
  {
   "cell_type": "code",
   "execution_count": 44,
   "metadata": {},
   "outputs": [],
   "source": [
    "model_reg = modelReg_(\n",
    "    name = 'Regressao',\n",
    "    n_features = 8, \n",
    "    initializer_ = keras.initializers.RandomNormal)"
   ]
  },
  {
   "cell_type": "code",
   "execution_count": null,
   "metadata": {},
   "outputs": [
    {
     "name": "stdout",
     "output_type": "stream",
     "text": [
      "Epoch 1 * loss : 5.82\n"
     ]
    }
   ],
   "source": [
    "loss_  = keras.losses.mean_squared_error\n",
    "optim  = keras.optimizers.Nadam(clipnorm = 2)\n",
    "\n",
    "max_ = np.inf\n",
    "init_, limit = 0, 4\n",
    "\n",
    "for epoch in range(10):\n",
    "    for xbatch, ybatch in train:\n",
    "        with tf.GradientTape() as tape:\n",
    "            pred = model_reg(xbatch)\n",
    "            loss = loss_(ybatch, pred)\n",
    "            loss = tf.reduce_mean(loss)\n",
    "                \n",
    "        gradient = tape.gradient(loss, model_reg.variables)\n",
    "        optim.apply_gradients(zip(gradient, model_reg.variables))\n",
    "    if max_ > loss:\n",
    "        init_ += 1\n",
    "    if init_ == limit + 1:\n",
    "        break\n",
    "    print(f'Epoch {epoch+1} * loss : {loss:.2f}')"
   ]
  }
 ],
 "metadata": {
  "kernelspec": {
   "display_name": "Python 3",
   "language": "python",
   "name": "python3"
  },
  "language_info": {
   "codemirror_mode": {
    "name": "ipython",
    "version": 3
   },
   "file_extension": ".py",
   "mimetype": "text/x-python",
   "name": "python",
   "nbconvert_exporter": "python",
   "pygments_lexer": "ipython3",
   "version": "3.12.7"
  }
 },
 "nbformat": 4,
 "nbformat_minor": 2
}
