{
 "cells": [
  {
   "cell_type": "code",
   "execution_count": 18,
   "metadata": {},
   "outputs": [],
   "source": [
    "import keras\n",
    "import tensorflow as tf \n",
    "import numpy as np\n",
    "from   sklearn.datasets import load_digits\n",
    "from sklearn.metrics import *"
   ]
  },
  {
   "cell_type": "code",
   "execution_count": 19,
   "metadata": {},
   "outputs": [],
   "source": [
    "X, y = load_digits(return_X_y=True) "
   ]
  },
  {
   "cell_type": "code",
   "execution_count": 20,
   "metadata": {},
   "outputs": [],
   "source": [
    "y =  tf.one_hot(y, 10, dtype=tf.float32)"
   ]
  },
  {
   "cell_type": "code",
   "execution_count": 21,
   "metadata": {},
   "outputs": [
    {
     "data": {
      "text/plain": [
       "(1797, 64)"
      ]
     },
     "execution_count": 21,
     "metadata": {},
     "output_type": "execute_result"
    }
   ],
   "source": [
    "X.shape"
   ]
  },
  {
   "cell_type": "code",
   "execution_count": 22,
   "metadata": {},
   "outputs": [],
   "source": [
    "data = tf.data.Dataset.from_tensor_slices((X, y))"
   ]
  },
  {
   "cell_type": "code",
   "execution_count": 23,
   "metadata": {},
   "outputs": [
    {
     "data": {
      "text/plain": [
       "599"
      ]
     },
     "execution_count": 23,
     "metadata": {},
     "output_type": "execute_result"
    }
   ],
   "source": [
    "X.shape[0]//3"
   ]
  },
  {
   "cell_type": "code",
   "execution_count": 24,
   "metadata": {},
   "outputs": [],
   "source": [
    "train = data\\\n",
    "            .batch(batch_size=599)\\\n",
    "            .shuffle(buffer_size=10, seed=10)"
   ]
  },
  {
   "cell_type": "code",
   "execution_count": 36,
   "metadata": {},
   "outputs": [
    {
     "name": "stdout",
     "output_type": "stream",
     "text": [
      "tf.Tensor(3.8452466, shape=(), dtype=float32)\n",
      "tf.Tensor(2.0499265, shape=(), dtype=float32)\n",
      "tf.Tensor(1.8583456, shape=(), dtype=float32)\n",
      "tf.Tensor(1.6477662, shape=(), dtype=float32)\n",
      "tf.Tensor(1.4656476, shape=(), dtype=float32)\n",
      "tf.Tensor(1.2597795, shape=(), dtype=float32)\n",
      "tf.Tensor(1.1020292, shape=(), dtype=float32)\n",
      "tf.Tensor(0.99688, shape=(), dtype=float32)\n",
      "tf.Tensor(0.8400579, shape=(), dtype=float32)\n",
      "tf.Tensor(0.7317791, shape=(), dtype=float32)\n",
      "tf.Tensor(0.6452664, shape=(), dtype=float32)\n",
      "tf.Tensor(0.5436972, shape=(), dtype=float32)\n",
      "tf.Tensor(0.46777824, shape=(), dtype=float32)\n",
      "tf.Tensor(0.4341748, shape=(), dtype=float32)\n",
      "tf.Tensor(0.35916865, shape=(), dtype=float32)\n",
      "tf.Tensor(0.33986822, shape=(), dtype=float32)\n",
      "tf.Tensor(0.29551357, shape=(), dtype=float32)\n",
      "tf.Tensor(0.23603831, shape=(), dtype=float32)\n",
      "tf.Tensor(0.24981073, shape=(), dtype=float32)\n",
      "tf.Tensor(0.1925381, shape=(), dtype=float32)\n",
      "tf.Tensor(0.20352075, shape=(), dtype=float32)\n",
      "tf.Tensor(0.18523394, shape=(), dtype=float32)\n",
      "tf.Tensor(0.15772474, shape=(), dtype=float32)\n",
      "tf.Tensor(0.15959391, shape=(), dtype=float32)\n",
      "tf.Tensor(0.14681958, shape=(), dtype=float32)\n",
      "tf.Tensor(0.1372564, shape=(), dtype=float32)\n",
      "tf.Tensor(0.12348586, shape=(), dtype=float32)\n",
      "tf.Tensor(0.118424974, shape=(), dtype=float32)\n",
      "tf.Tensor(0.10503817, shape=(), dtype=float32)\n",
      "tf.Tensor(0.099315345, shape=(), dtype=float32)\n",
      "tf.Tensor(0.10684515, shape=(), dtype=float32)\n",
      "tf.Tensor(0.09427374, shape=(), dtype=float32)\n",
      "tf.Tensor(0.081066035, shape=(), dtype=float32)\n",
      "tf.Tensor(0.08494325, shape=(), dtype=float32)\n",
      "tf.Tensor(0.072292246, shape=(), dtype=float32)\n",
      "tf.Tensor(0.06862688, shape=(), dtype=float32)\n",
      "tf.Tensor(0.065041214, shape=(), dtype=float32)\n",
      "tf.Tensor(0.06868597, shape=(), dtype=float32)\n",
      "tf.Tensor(0.057392992, shape=(), dtype=float32)\n",
      "tf.Tensor(0.07203907, shape=(), dtype=float32)\n",
      "tf.Tensor(0.0679574, shape=(), dtype=float32)\n",
      "tf.Tensor(0.065305635, shape=(), dtype=float32)\n",
      "tf.Tensor(0.0632579, shape=(), dtype=float32)\n",
      "tf.Tensor(0.04491273, shape=(), dtype=float32)\n",
      "tf.Tensor(0.050926883, shape=(), dtype=float32)\n",
      "tf.Tensor(0.040662233, shape=(), dtype=float32)\n",
      "tf.Tensor(0.053392347, shape=(), dtype=float32)\n",
      "tf.Tensor(0.045825925, shape=(), dtype=float32)\n",
      "tf.Tensor(0.049739014, shape=(), dtype=float32)\n",
      "tf.Tensor(0.04252531, shape=(), dtype=float32)\n",
      "tf.Tensor(0.04667089, shape=(), dtype=float32)\n",
      "tf.Tensor(0.043972164, shape=(), dtype=float32)\n",
      "tf.Tensor(0.04206399, shape=(), dtype=float32)\n",
      "tf.Tensor(0.036817305, shape=(), dtype=float32)\n",
      "tf.Tensor(0.03497333, shape=(), dtype=float32)\n",
      "tf.Tensor(0.039408855, shape=(), dtype=float32)\n",
      "tf.Tensor(0.033386026, shape=(), dtype=float32)\n",
      "tf.Tensor(0.036080454, shape=(), dtype=float32)\n",
      "tf.Tensor(0.031151863, shape=(), dtype=float32)\n",
      "tf.Tensor(0.023492517, shape=(), dtype=float32)\n",
      "tf.Tensor(0.022652825, shape=(), dtype=float32)\n",
      "tf.Tensor(0.028128788, shape=(), dtype=float32)\n",
      "tf.Tensor(0.027386963, shape=(), dtype=float32)\n",
      "tf.Tensor(0.020453759, shape=(), dtype=float32)\n",
      "tf.Tensor(0.019907696, shape=(), dtype=float32)\n",
      "tf.Tensor(0.019298263, shape=(), dtype=float32)\n",
      "tf.Tensor(0.02412501, shape=(), dtype=float32)\n",
      "tf.Tensor(0.027588116, shape=(), dtype=float32)\n",
      "tf.Tensor(0.026306424, shape=(), dtype=float32)\n",
      "tf.Tensor(0.02269204, shape=(), dtype=float32)\n",
      "tf.Tensor(0.021614943, shape=(), dtype=float32)\n",
      "tf.Tensor(0.015803583, shape=(), dtype=float32)\n",
      "tf.Tensor(0.01556824, shape=(), dtype=float32)\n",
      "tf.Tensor(0.020176524, shape=(), dtype=float32)\n",
      "tf.Tensor(0.022749191, shape=(), dtype=float32)\n",
      "tf.Tensor(0.021949604, shape=(), dtype=float32)\n",
      "tf.Tensor(0.018703613, shape=(), dtype=float32)\n",
      "tf.Tensor(0.018150963, shape=(), dtype=float32)\n",
      "tf.Tensor(0.017653648, shape=(), dtype=float32)\n",
      "tf.Tensor(0.01728497, shape=(), dtype=float32)\n",
      "tf.Tensor(0.019482234, shape=(), dtype=float32)\n",
      "tf.Tensor(0.016580913, shape=(), dtype=float32)\n",
      "tf.Tensor(0.01850394, shape=(), dtype=float32)\n",
      "tf.Tensor(0.015666418, shape=(), dtype=float32)\n",
      "tf.Tensor(0.017696664, shape=(), dtype=float32)\n",
      "tf.Tensor(0.014923233, shape=(), dtype=float32)\n",
      "tf.Tensor(0.01107255, shape=(), dtype=float32)\n",
      "tf.Tensor(0.014240958, shape=(), dtype=float32)\n",
      "tf.Tensor(0.01052561, shape=(), dtype=float32)\n",
      "tf.Tensor(0.010370231, shape=(), dtype=float32)\n",
      "tf.Tensor(0.01558029, shape=(), dtype=float32)\n",
      "tf.Tensor(0.013160108, shape=(), dtype=float32)\n",
      "tf.Tensor(0.014831169, shape=(), dtype=float32)\n",
      "tf.Tensor(0.014550424, shape=(), dtype=float32)\n",
      "tf.Tensor(0.012490838, shape=(), dtype=float32)\n",
      "tf.Tensor(0.013995462, shape=(), dtype=float32)\n",
      "tf.Tensor(0.011827714, shape=(), dtype=float32)\n",
      "tf.Tensor(0.013395915, shape=(), dtype=float32)\n",
      "tf.Tensor(0.013075442, shape=(), dtype=float32)\n",
      "tf.Tensor(0.012755144, shape=(), dtype=float32)\n",
      "tf.Tensor(0.012515176, shape=(), dtype=float32)\n",
      "tf.Tensor(0.008029585, shape=(), dtype=float32)\n",
      "tf.Tensor(0.011992638, shape=(), dtype=float32)\n",
      "tf.Tensor(0.010300551, shape=(), dtype=float32)\n",
      "tf.Tensor(0.0075191846, shape=(), dtype=float32)\n",
      "tf.Tensor(0.010024337, shape=(), dtype=float32)\n",
      "tf.Tensor(0.009807675, shape=(), dtype=float32)\n",
      "tf.Tensor(0.010984381, shape=(), dtype=float32)\n",
      "tf.Tensor(0.009496538, shape=(), dtype=float32)\n",
      "tf.Tensor(0.010534481, shape=(), dtype=float32)\n",
      "tf.Tensor(0.010334642, shape=(), dtype=float32)\n",
      "tf.Tensor(0.009058132, shape=(), dtype=float32)\n",
      "tf.Tensor(0.0065246876, shape=(), dtype=float32)\n",
      "tf.Tensor(0.009780404, shape=(), dtype=float32)\n",
      "tf.Tensor(0.008564131, shape=(), dtype=float32)\n",
      "tf.Tensor(0.0062266197, shape=(), dtype=float32)\n",
      "tf.Tensor(0.0061150016, shape=(), dtype=float32)\n",
      "tf.Tensor(0.009185953, shape=(), dtype=float32)\n",
      "tf.Tensor(0.009033584, shape=(), dtype=float32)\n",
      "tf.Tensor(0.007980017, shape=(), dtype=float32)\n",
      "tf.Tensor(0.0056882026, shape=(), dtype=float32)\n",
      "tf.Tensor(0.008567723, shape=(), dtype=float32)\n",
      "tf.Tensor(0.008440432, shape=(), dtype=float32)\n",
      "tf.Tensor(0.005436913, shape=(), dtype=float32)\n",
      "tf.Tensor(0.008149507, shape=(), dtype=float32)\n",
      "tf.Tensor(0.0052407254, shape=(), dtype=float32)\n",
      "tf.Tensor(0.007894806, shape=(), dtype=float32)\n",
      "tf.Tensor(0.007036649, shape=(), dtype=float32)\n",
      "tf.Tensor(0.006925727, shape=(), dtype=float32)\n",
      "tf.Tensor(0.00496356, shape=(), dtype=float32)\n",
      "tf.Tensor(0.004895239, shape=(), dtype=float32)\n",
      "tf.Tensor(0.0073798974, shape=(), dtype=float32)\n",
      "tf.Tensor(0.0047189263, shape=(), dtype=float32)\n",
      "tf.Tensor(0.006494924, shape=(), dtype=float32)\n",
      "tf.Tensor(0.00636667, shape=(), dtype=float32)\n",
      "tf.Tensor(0.0062309587, shape=(), dtype=float32)\n",
      "tf.Tensor(0.006918226, shape=(), dtype=float32)\n",
      "tf.Tensor(0.004405446, shape=(), dtype=float32)\n",
      "tf.Tensor(0.0066256095, shape=(), dtype=float32)\n",
      "tf.Tensor(0.00429917, shape=(), dtype=float32)\n",
      "tf.Tensor(0.004270488, shape=(), dtype=float32)\n",
      "tf.Tensor(0.005816461, shape=(), dtype=float32)\n",
      "tf.Tensor(0.0041641463, shape=(), dtype=float32)\n",
      "tf.Tensor(0.0055933166, shape=(), dtype=float32)\n",
      "tf.Tensor(0.0040317555, shape=(), dtype=float32)\n",
      "tf.Tensor(0.006108984, shape=(), dtype=float32)\n",
      "tf.Tensor(0.0060264915, shape=(), dtype=float32)\n",
      "tf.Tensor(0.003873604, shape=(), dtype=float32)\n",
      "tf.Tensor(0.0053385077, shape=(), dtype=float32)\n",
      "tf.Tensor(0.0052441927, shape=(), dtype=float32)\n",
      "tf.Tensor(0.003733889, shape=(), dtype=float32)\n",
      "tf.Tensor(0.005090547, shape=(), dtype=float32)\n",
      "tf.Tensor(0.0055731535, shape=(), dtype=float32)\n",
      "tf.Tensor(0.0050057033, shape=(), dtype=float32)\n",
      "tf.Tensor(0.00542352, shape=(), dtype=float32)\n",
      "tf.Tensor(0.0035292176, shape=(), dtype=float32)\n",
      "tf.Tensor(0.005298457, shape=(), dtype=float32)\n",
      "tf.Tensor(0.004779509, shape=(), dtype=float32)\n",
      "tf.Tensor(0.005174247, shape=(), dtype=float32)\n",
      "tf.Tensor(0.0046520797, shape=(), dtype=float32)\n",
      "tf.Tensor(0.005065356, shape=(), dtype=float32)\n",
      "tf.Tensor(0.005008361, shape=(), dtype=float32)\n",
      "tf.Tensor(0.0049454914, shape=(), dtype=float32)\n",
      "tf.Tensor(0.004475625, shape=(), dtype=float32)\n",
      "tf.Tensor(0.003214388, shape=(), dtype=float32)\n",
      "tf.Tensor(0.0043626116, shape=(), dtype=float32)\n",
      "tf.Tensor(0.0043368163, shape=(), dtype=float32)\n",
      "tf.Tensor(0.0031210145, shape=(), dtype=float32)\n",
      "tf.Tensor(0.004638876, shape=(), dtype=float32)\n",
      "tf.Tensor(0.0030359174, shape=(), dtype=float32)\n",
      "tf.Tensor(0.00453976, shape=(), dtype=float32)\n",
      "tf.Tensor(0.0045052813, shape=(), dtype=float32)\n",
      "tf.Tensor(0.004455777, shape=(), dtype=float32)\n",
      "tf.Tensor(0.0044070394, shape=(), dtype=float32)\n",
      "tf.Tensor(0.0043617412, shape=(), dtype=float32)\n",
      "tf.Tensor(0.0043125004, shape=(), dtype=float32)\n",
      "tf.Tensor(0.003921403, shape=(), dtype=float32)\n",
      "tf.Tensor(0.004216249, shape=(), dtype=float32)\n",
      "tf.Tensor(0.004188619, shape=(), dtype=float32)\n",
      "tf.Tensor(0.0038028595, shape=(), dtype=float32)\n",
      "tf.Tensor(0.002716962, shape=(), dtype=float32)\n",
      "tf.Tensor(0.002712542, shape=(), dtype=float32)\n",
      "tf.Tensor(0.0026949497, shape=(), dtype=float32)\n",
      "tf.Tensor(0.0026643735, shape=(), dtype=float32)\n",
      "tf.Tensor(0.0036302863, shape=(), dtype=float32)\n",
      "tf.Tensor(0.0039056975, shape=(), dtype=float32)\n",
      "tf.Tensor(0.0035597358, shape=(), dtype=float32)\n",
      "tf.Tensor(0.0038398912, shape=(), dtype=float32)\n",
      "tf.Tensor(0.0038180659, shape=(), dtype=float32)\n",
      "tf.Tensor(0.0037782912, shape=(), dtype=float32)\n",
      "tf.Tensor(0.003449771, shape=(), dtype=float32)\n",
      "tf.Tensor(0.003677131, shape=(), dtype=float32)\n",
      "tf.Tensor(0.0024339946, shape=(), dtype=float32)\n",
      "tf.Tensor(0.003346161, shape=(), dtype=float32)\n",
      "tf.Tensor(0.0033210956, shape=(), dtype=float32)\n",
      "tf.Tensor(0.0035622732, shape=(), dtype=float32)\n",
      "tf.Tensor(0.002347431, shape=(), dtype=float32)\n",
      "tf.Tensor(0.0032390796, shape=(), dtype=float32)\n",
      "tf.Tensor(0.0023148763, shape=(), dtype=float32)\n",
      "tf.Tensor(0.0031786775, shape=(), dtype=float32)\n"
     ]
    }
   ],
   "source": [
    "model = keras.models.Sequential(\n",
    "    layers = [\n",
    "        keras.layers.Dense(64, activation=keras.activations.relu),\n",
    "        keras.layers.Dense(32, activation=keras.activations.relu),\n",
    "        keras.layers.Dense(18, activation=keras.activations.relu),\n",
    "        keras.layers.Dense(10, activation=keras.activations.softmax)\n",
    "    ]\n",
    ")\n",
    "\n",
    "optim  = keras.optimizers.SGD(learning_rate=0.01, nesterov=True, momentum=0.9)\n",
    "losses = keras.losses.categorical_crossentropy\n",
    "\n",
    "for epoch in range(200):\n",
    "    for xbatch, ybatch in train:\n",
    "        # Train\n",
    "        with tf.GradientTape() as tape:\n",
    "            pred = model(xbatch)\n",
    "            loss = tf.reduce_mean(losses(ybatch, pred))\n",
    "            loss = tf.add_n([loss], model.losses)\n",
    "\n",
    "        # Atualizando gradiente\n",
    "        gradient = tape.gradient(loss, model.trainable_variables)\n",
    "        optim.apply_gradients(\n",
    "            zip(gradient, model.trainable_variables )\n",
    "        ) \n",
    "        # Para adiciona as restriçoes caso necessario\n",
    "        for variable in model.variables:\n",
    "            if variable.constraint is not None:\n",
    "                variable.assign(variable.constraint(variable))\n",
    "        \n",
    "    print(loss)"
   ]
  },
  {
   "cell_type": "code",
   "execution_count": 37,
   "metadata": {},
   "outputs": [],
   "source": [
    "pred = model(X)"
   ]
  },
  {
   "cell_type": "code",
   "execution_count": 38,
   "metadata": {},
   "outputs": [
    {
     "data": {
      "text/plain": [
       "1.0"
      ]
     },
     "execution_count": 38,
     "metadata": {},
     "output_type": "execute_result"
    }
   ],
   "source": [
    "accuracy_score(np.argmax(y, axis=1), np.argmax(pred, axis=1))"
   ]
  },
  {
   "cell_type": "code",
   "execution_count": 39,
   "metadata": {},
   "outputs": [
    {
     "name": "stdout",
     "output_type": "stream",
     "text": [
      "              precision    recall  f1-score   support\n",
      "\n",
      "           0       1.00      1.00      1.00       178\n",
      "           1       1.00      1.00      1.00       182\n",
      "           2       1.00      1.00      1.00       177\n",
      "           3       1.00      1.00      1.00       183\n",
      "           4       1.00      1.00      1.00       181\n",
      "           5       1.00      1.00      1.00       182\n",
      "           6       1.00      1.00      1.00       181\n",
      "           7       1.00      1.00      1.00       179\n",
      "           8       1.00      1.00      1.00       174\n",
      "           9       1.00      1.00      1.00       180\n",
      "\n",
      "    accuracy                           1.00      1797\n",
      "   macro avg       1.00      1.00      1.00      1797\n",
      "weighted avg       1.00      1.00      1.00      1797\n",
      "\n"
     ]
    }
   ],
   "source": [
    "print(classification_report(np.argmax(y, axis=1), np.argmax(pred, axis=1)))"
   ]
  },
  {
   "cell_type": "code",
   "execution_count": 43,
   "metadata": {},
   "outputs": [
    {
     "name": "stdout",
     "output_type": "stream",
     "text": [
      "Epoch 1/10\n",
      "\u001b[1m599/599\u001b[0m \u001b[32m━━━━━━━━━━━━━━━━━━━━\u001b[0m\u001b[37m\u001b[0m \u001b[1m1s\u001b[0m 949us/step - loss: 1.3704\n",
      "Epoch 2/10\n",
      "\u001b[1m599/599\u001b[0m \u001b[32m━━━━━━━━━━━━━━━━━━━━\u001b[0m\u001b[37m\u001b[0m \u001b[1m1s\u001b[0m 1ms/step - loss: 0.2751\n",
      "Epoch 3/10\n",
      "\u001b[1m599/599\u001b[0m \u001b[32m━━━━━━━━━━━━━━━━━━━━\u001b[0m\u001b[37m\u001b[0m \u001b[1m1s\u001b[0m 1ms/step - loss: 0.1718\n",
      "Epoch 4/10\n",
      "\u001b[1m599/599\u001b[0m \u001b[32m━━━━━━━━━━━━━━━━━━━━\u001b[0m\u001b[37m\u001b[0m \u001b[1m1s\u001b[0m 959us/step - loss: 0.1224\n",
      "Epoch 5/10\n",
      "\u001b[1m599/599\u001b[0m \u001b[32m━━━━━━━━━━━━━━━━━━━━\u001b[0m\u001b[37m\u001b[0m \u001b[1m1s\u001b[0m 1ms/step - loss: 0.0795\n",
      "Epoch 6/10\n",
      "\u001b[1m599/599\u001b[0m \u001b[32m━━━━━━━━━━━━━━━━━━━━\u001b[0m\u001b[37m\u001b[0m \u001b[1m1s\u001b[0m 941us/step - loss: 0.0574\n",
      "Epoch 7/10\n",
      "\u001b[1m599/599\u001b[0m \u001b[32m━━━━━━━━━━━━━━━━━━━━\u001b[0m\u001b[37m\u001b[0m \u001b[1m1s\u001b[0m 940us/step - loss: 0.0408\n",
      "Epoch 8/10\n",
      "\u001b[1m599/599\u001b[0m \u001b[32m━━━━━━━━━━━━━━━━━━━━\u001b[0m\u001b[37m\u001b[0m \u001b[1m1s\u001b[0m 1ms/step - loss: 0.0590\n",
      "Epoch 9/10\n",
      "\u001b[1m599/599\u001b[0m \u001b[32m━━━━━━━━━━━━━━━━━━━━\u001b[0m\u001b[37m\u001b[0m \u001b[1m1s\u001b[0m 919us/step - loss: 0.0285\n",
      "Epoch 10/10\n",
      "\u001b[1m599/599\u001b[0m \u001b[32m━━━━━━━━━━━━━━━━━━━━\u001b[0m\u001b[37m\u001b[0m \u001b[1m1s\u001b[0m 1ms/step - loss: 0.0083\n"
     ]
    },
    {
     "data": {
      "text/plain": [
       "<keras.src.callbacks.history.History at 0x1f72750a900>"
      ]
     },
     "execution_count": 43,
     "metadata": {},
     "output_type": "execute_result"
    }
   ],
   "source": [
    "models = keras.models.Sequential(\n",
    "    layers = [\n",
    "        keras.layers.Dense(64, activation=keras.activations.relu),\n",
    "        keras.layers.Dense(32, activation=keras.activations.relu),\n",
    "        keras.layers.Dense(18, activation=keras.activations.relu),\n",
    "        keras.layers.Dense(10, activation=keras.activations.softmax)\n",
    "    ]\n",
    ")\n",
    "models.compile(\n",
    "    optimizer=keras.optimizers.SGD(learning_rate=0.01),\n",
    "    loss = keras.losses.categorical_crossentropy\n",
    ")\n",
    "models.fit(X, y, epochs=10, batch_size=3)"
   ]
  },
  {
   "cell_type": "code",
   "execution_count": 44,
   "metadata": {},
   "outputs": [],
   "source": [
    "pred = models(X)"
   ]
  },
  {
   "cell_type": "code",
   "execution_count": 45,
   "metadata": {},
   "outputs": [
    {
     "name": "stdout",
     "output_type": "stream",
     "text": [
      "              precision    recall  f1-score   support\n",
      "\n",
      "           0       1.00      1.00      1.00       178\n",
      "           1       0.99      1.00      0.99       182\n",
      "           2       1.00      1.00      1.00       177\n",
      "           3       0.99      1.00      0.99       183\n",
      "           4       1.00      1.00      1.00       181\n",
      "           5       0.94      1.00      0.97       182\n",
      "           6       1.00      1.00      1.00       181\n",
      "           7       0.99      1.00      1.00       179\n",
      "           8       0.98      0.99      0.99       174\n",
      "           9       1.00      0.91      0.95       180\n",
      "\n",
      "    accuracy                           0.99      1797\n",
      "   macro avg       0.99      0.99      0.99      1797\n",
      "weighted avg       0.99      0.99      0.99      1797\n",
      "\n"
     ]
    }
   ],
   "source": [
    "print(classification_report(np.argmax(y, axis=1), np.argmax(pred, axis=1)))"
   ]
  },
  {
   "cell_type": "code",
   "execution_count": null,
   "metadata": {},
   "outputs": [],
   "source": []
  }
 ],
 "metadata": {
  "kernelspec": {
   "display_name": "Python 3",
   "language": "python",
   "name": "python3"
  },
  "language_info": {
   "codemirror_mode": {
    "name": "ipython",
    "version": 3
   },
   "file_extension": ".py",
   "mimetype": "text/x-python",
   "name": "python",
   "nbconvert_exporter": "python",
   "pygments_lexer": "ipython3",
   "version": "3.12.7"
  }
 },
 "nbformat": 4,
 "nbformat_minor": 2
}
